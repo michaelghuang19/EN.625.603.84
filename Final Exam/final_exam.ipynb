{
 "cells": [
  {
   "cell_type": "markdown",
   "id": "0f8212d1",
   "metadata": {},
   "source": [
    "## Final Exam\n",
    "\n",
    "Michael Huang\n",
    "\n",
    "EN.625.603.84\n",
    "\n",
    "Description: The datafile contains data for 2015 for full-time workers with a high school diploma\n",
    "or B.A./B.S. as their highest degree. See the pdf attachment for an overview of the data and\n",
    "variable descriptions. In this exercise, you will investigate the relationship between a worker’s\n",
    "age and earnings. (Generally, older workers have more job experience, leading to higher\n",
    "productivity and higher earnings.)\n"
   ]
  },
  {
   "cell_type": "code",
   "execution_count": null,
   "id": "5da39bd6",
   "metadata": {},
   "outputs": [
    {
     "data": {
      "text/html": [
       "<div>\n",
       "<style scoped>\n",
       "    .dataframe tbody tr th:only-of-type {\n",
       "        vertical-align: middle;\n",
       "    }\n",
       "\n",
       "    .dataframe tbody tr th {\n",
       "        vertical-align: top;\n",
       "    }\n",
       "\n",
       "    .dataframe thead th {\n",
       "        text-align: right;\n",
       "    }\n",
       "</style>\n",
       "<table border=\"1\" class=\"dataframe\">\n",
       "  <thead>\n",
       "    <tr style=\"text-align: right;\">\n",
       "      <th></th>\n",
       "      <th>year</th>\n",
       "      <th>ahe</th>\n",
       "      <th>bachelor</th>\n",
       "      <th>female</th>\n",
       "      <th>age</th>\n",
       "    </tr>\n",
       "  </thead>\n",
       "  <tbody>\n",
       "    <tr>\n",
       "      <th>0</th>\n",
       "      <td>2015</td>\n",
       "      <td>11.778846</td>\n",
       "      <td>0</td>\n",
       "      <td>0</td>\n",
       "      <td>26</td>\n",
       "    </tr>\n",
       "    <tr>\n",
       "      <th>1</th>\n",
       "      <td>2015</td>\n",
       "      <td>9.615385</td>\n",
       "      <td>0</td>\n",
       "      <td>1</td>\n",
       "      <td>33</td>\n",
       "    </tr>\n",
       "    <tr>\n",
       "      <th>2</th>\n",
       "      <td>2015</td>\n",
       "      <td>12.019231</td>\n",
       "      <td>0</td>\n",
       "      <td>0</td>\n",
       "      <td>31</td>\n",
       "    </tr>\n",
       "    <tr>\n",
       "      <th>3</th>\n",
       "      <td>2015</td>\n",
       "      <td>18.376068</td>\n",
       "      <td>0</td>\n",
       "      <td>0</td>\n",
       "      <td>32</td>\n",
       "    </tr>\n",
       "    <tr>\n",
       "      <th>4</th>\n",
       "      <td>2015</td>\n",
       "      <td>41.836735</td>\n",
       "      <td>0</td>\n",
       "      <td>0</td>\n",
       "      <td>28</td>\n",
       "    </tr>\n",
       "    <tr>\n",
       "      <th>...</th>\n",
       "      <td>...</td>\n",
       "      <td>...</td>\n",
       "      <td>...</td>\n",
       "      <td>...</td>\n",
       "      <td>...</td>\n",
       "    </tr>\n",
       "    <tr>\n",
       "      <th>7093</th>\n",
       "      <td>2015</td>\n",
       "      <td>96.153847</td>\n",
       "      <td>1</td>\n",
       "      <td>0</td>\n",
       "      <td>25</td>\n",
       "    </tr>\n",
       "    <tr>\n",
       "      <th>7094</th>\n",
       "      <td>2015</td>\n",
       "      <td>30.769230</td>\n",
       "      <td>1</td>\n",
       "      <td>0</td>\n",
       "      <td>34</td>\n",
       "    </tr>\n",
       "    <tr>\n",
       "      <th>7095</th>\n",
       "      <td>2015</td>\n",
       "      <td>9.230769</td>\n",
       "      <td>0</td>\n",
       "      <td>0</td>\n",
       "      <td>27</td>\n",
       "    </tr>\n",
       "    <tr>\n",
       "      <th>7096</th>\n",
       "      <td>2015</td>\n",
       "      <td>13.653846</td>\n",
       "      <td>1</td>\n",
       "      <td>1</td>\n",
       "      <td>27</td>\n",
       "    </tr>\n",
       "    <tr>\n",
       "      <th>7097</th>\n",
       "      <td>2015</td>\n",
       "      <td>32.692307</td>\n",
       "      <td>1</td>\n",
       "      <td>1</td>\n",
       "      <td>34</td>\n",
       "    </tr>\n",
       "  </tbody>\n",
       "</table>\n",
       "<p>7098 rows × 5 columns</p>\n",
       "</div>"
      ],
      "text/plain": [
       "      year        ahe  bachelor  female  age\n",
       "0     2015  11.778846         0       0   26\n",
       "1     2015   9.615385         0       1   33\n",
       "2     2015  12.019231         0       0   31\n",
       "3     2015  18.376068         0       0   32\n",
       "4     2015  41.836735         0       0   28\n",
       "...    ...        ...       ...     ...  ...\n",
       "7093  2015  96.153847         1       0   25\n",
       "7094  2015  30.769230         1       0   34\n",
       "7095  2015   9.230769         0       0   27\n",
       "7096  2015  13.653846         1       1   27\n",
       "7097  2015  32.692307         1       1   34\n",
       "\n",
       "[7098 rows x 5 columns]"
      ]
     },
     "execution_count": 24,
     "metadata": {},
     "output_type": "execute_result"
    }
   ],
   "source": [
    "from statsmodels.formula.api import ols\n",
    "\n",
    "import numpy as np\n",
    "import pandas as pd\n",
    "\n",
    "# As excel files do not play nice with Python, converted the data to csv\n",
    "\n",
    "cps_df = pd.read_csv(\"CPS2015-1.csv\")\n",
    "cps_df\n"
   ]
  },
  {
   "cell_type": "markdown",
   "id": "d65f5819",
   "metadata": {},
   "source": [
    "##### a. Run a regression of average hourly earnings (AHE) on age (Age), gender (Female), and education (Bachelor). If age increases from 25 to 26, how are earnings expected to change? If age increases from 33 to 34, how are earnings expected to change?"
   ]
  },
  {
   "cell_type": "code",
   "execution_count": 32,
   "id": "24b6b8e2",
   "metadata": {},
   "outputs": [
    {
     "name": "stdout",
     "output_type": "stream",
     "text": [
      "model_a.summary()=<class 'statsmodels.iolib.summary.Summary'>\n",
      "\"\"\"\n",
      "                            OLS Regression Results                            \n",
      "==============================================================================\n",
      "Dep. Variable:                    ahe   R-squared:                       0.190\n",
      "Model:                            OLS   Adj. R-squared:                  0.189\n",
      "Method:                 Least Squares   F-statistic:                     553.4\n",
      "Date:                Sat, 16 Aug 2025   Prob (F-statistic):          3.46e-323\n",
      "Time:                        06:05:18   Log-Likelihood:                -27036.\n",
      "No. Observations:                7098   AIC:                         5.408e+04\n",
      "Df Residuals:                    7094   BIC:                         5.411e+04\n",
      "Df Model:                           3                                         \n",
      "Covariance Type:            nonrobust                                         \n",
      "==============================================================================\n",
      "                 coef    std err          t      P>|t|      [0.025      0.975]\n",
      "------------------------------------------------------------------------------\n",
      "Intercept      2.0448      1.355      1.509      0.131      -0.611       4.700\n",
      "age            0.5313      0.045     11.788      0.000       0.443       0.620\n",
      "female        -4.1435      0.266    -15.583      0.000      -4.665      -3.622\n",
      "bachelor       9.8456      0.262     37.519      0.000       9.331      10.360\n",
      "==============================================================================\n",
      "Omnibus:                     2458.198   Durbin-Watson:                   1.936\n",
      "Prob(Omnibus):                  0.000   Jarque-Bera (JB):            11294.166\n",
      "Skew:                           1.629   Prob(JB):                         0.00\n",
      "Kurtosis:                       8.252   Cond. No.                         312.\n",
      "==============================================================================\n",
      "\n",
      "Notes:\n",
      "[1] Standard Errors assume that the covariance matrix of the errors is correctly specified.\n",
      "\"\"\"\n",
      "age_coeff_a=0.531275239654071\n"
     ]
    }
   ],
   "source": [
    "\n",
    "model_a = ols(\"ahe ~ age + female + bachelor\", data=cps_df).fit()\n",
    "print(f\"{model_a.summary()=}\")\n",
    "\n",
    "age_coeff_a = model_a.params[\"age\"]\n",
    "print(f\"{age_coeff_a=}\")"
   ]
  },
  {
   "cell_type": "markdown",
   "id": "1b6db94c",
   "metadata": {},
   "source": [
    "In this model, we simply look at the coefficient for age, since this simply represents the marginal change for if age increases by 1, so this is the same for both if the age increases from 25 to 26 and if the age increases from 33 to 34. The corresponding coefficient as displayed above is 0.531275239654071, so there would be a **0.531275239654071** increase in average hourly earnings."
   ]
  },
  {
   "cell_type": "markdown",
   "id": "27b68d88",
   "metadata": {},
   "source": [
    "##### b. Run a regression of the logarithm of average hourly earnings, ln(AHE), on Age, Female, and Bachelor. If age increases from 25 to 26, how are earnings expected to change? If age increases from 33 to 34, how are earnings expected to change?"
   ]
  },
  {
   "cell_type": "code",
   "execution_count": 26,
   "id": "24c5a6f3",
   "metadata": {},
   "outputs": [
    {
     "name": "stdout",
     "output_type": "stream",
     "text": [
      "model_b.summary()=<class 'statsmodels.iolib.summary.Summary'>\n",
      "\"\"\"\n",
      "                            OLS Regression Results                            \n",
      "==============================================================================\n",
      "Dep. Variable:                 ln_ahe   R-squared:                       0.208\n",
      "Model:                            OLS   Adj. R-squared:                  0.208\n",
      "Method:                 Least Squares   F-statistic:                     622.4\n",
      "Date:                Sat, 16 Aug 2025   Prob (F-statistic):               0.00\n",
      "Time:                        05:55:27   Log-Likelihood:                -4821.9\n",
      "No. Observations:                7098   AIC:                             9652.\n",
      "Df Residuals:                    7094   BIC:                             9679.\n",
      "Df Model:                           3                                         \n",
      "Covariance Type:            nonrobust                                         \n",
      "==============================================================================\n",
      "                 coef    std err          t      P>|t|      [0.025      0.975]\n",
      "------------------------------------------------------------------------------\n",
      "Intercept      2.0274      0.059     34.220      0.000       1.911       2.143\n",
      "age            0.0242      0.002     12.273      0.000       0.020       0.028\n",
      "female        -0.1776      0.012    -15.274      0.000      -0.200      -0.155\n",
      "bachelor       0.4615      0.011     40.212      0.000       0.439       0.484\n",
      "==============================================================================\n",
      "Omnibus:                      185.302   Durbin-Watson:                   1.943\n",
      "Prob(Omnibus):                  0.000   Jarque-Bera (JB):              309.107\n",
      "Skew:                          -0.236   Prob(JB):                     7.55e-68\n",
      "Kurtosis:                       3.906   Cond. No.                         312.\n",
      "==============================================================================\n",
      "\n",
      "Notes:\n",
      "[1] Standard Errors assume that the covariance matrix of the errors is correctly specified.\n",
      "\"\"\"\n",
      "age_coeff_b=0.02419115791114511\n"
     ]
    }
   ],
   "source": [
    "cps_df[\"ln_ahe\"] = np.log(cps_df[\"ahe\"])\n",
    "\n",
    "model_b = ols(\"ln_ahe ~ age + female + bachelor\", data=cps_df).fit()\n",
    "print(f\"{model_b.summary()=}\")\n",
    "\n",
    "age_coeff_b = model_b.params[\"age\"]\n",
    "print(f\"{age_coeff_b=}\")"
   ]
  },
  {
   "cell_type": "markdown",
   "id": "d3c485c7",
   "metadata": {},
   "source": [
    "In this model, we simply look at the coefficient for age, and in this log-linear model it represents the percentage change for if age increases by 1, so this percentage change would be the same for both if the age increases from 25 to 26 and if the age increases from 33 to 34. The corresponding coefficient as displayed above is 0.02419115791114511, so there would be a **2.419115791114511%** increase in average hourly earnings."
   ]
  },
  {
   "cell_type": "markdown",
   "id": "7b48e456",
   "metadata": {},
   "source": [
    "##### c. Run a regression of the logarithm of average hourly earnings, ln(AHE), on ln(Age), Female, and Bachelor. If age increases from 25 to 26, how are earnings expected to change? If age increases from 33 to 34, how are earnings expected to change?"
   ]
  },
  {
   "cell_type": "code",
   "execution_count": 27,
   "id": "1d5a9286",
   "metadata": {},
   "outputs": [
    {
     "name": "stdout",
     "output_type": "stream",
     "text": [
      "model_c.summary()=<class 'statsmodels.iolib.summary.Summary'>\n",
      "\"\"\"\n",
      "                            OLS Regression Results                            \n",
      "==============================================================================\n",
      "Dep. Variable:                 ln_ahe   R-squared:                       0.209\n",
      "Model:                            OLS   Adj. R-squared:                  0.208\n",
      "Method:                 Least Squares   F-statistic:                     623.4\n",
      "Date:                Sat, 16 Aug 2025   Prob (F-statistic):               0.00\n",
      "Time:                        05:55:27   Log-Likelihood:                -4820.8\n",
      "No. Observations:                7098   AIC:                             9650.\n",
      "Df Residuals:                    7094   BIC:                             9677.\n",
      "Df Model:                           3                                         \n",
      "Covariance Type:            nonrobust                                         \n",
      "==============================================================================\n",
      "                 coef    std err          t      P>|t|      [0.025      0.975]\n",
      "------------------------------------------------------------------------------\n",
      "Intercept      0.3233      0.196      1.649      0.099      -0.061       0.708\n",
      "ln_age         0.7154      0.058     12.368      0.000       0.602       0.829\n",
      "female        -0.1775      0.012    -15.268      0.000      -0.200      -0.155\n",
      "bachelor       0.4615      0.011     40.220      0.000       0.439       0.484\n",
      "==============================================================================\n",
      "Omnibus:                      184.684   Durbin-Watson:                   1.943\n",
      "Prob(Omnibus):                  0.000   Jarque-Bera (JB):              307.770\n",
      "Skew:                          -0.236   Prob(JB):                     1.47e-67\n",
      "Kurtosis:                       3.904   Cond. No.                         130.\n",
      "==============================================================================\n",
      "\n",
      "Notes:\n",
      "[1] Standard Errors assume that the covariance matrix of the errors is correctly specified.\n",
      "\"\"\"\n",
      "ln_age_coeff_c=0.7153749610992853\n",
      "earnings_change_25_to_26=2.8614998443971413\n",
      "earnings_change_33_to_34=2.1678029124220766\n"
     ]
    }
   ],
   "source": [
    "cps_df[\"ln_age\"] = np.log(cps_df[\"age\"])\n",
    "\n",
    "model_c = ols(\"ln_ahe ~ ln_age + female + bachelor\", data=cps_df).fit()\n",
    "print(f\"{model_c.summary()=}\")\n",
    "\n",
    "ln_age_coeff_c = model_c.params[\"ln_age\"]\n",
    "print(f\"{ln_age_coeff_c=}\")\n",
    "\n",
    "pct_change_age_25_to_26 = ((26-25)/25) * 100\n",
    "pct_change_age_33_to_34 = ((34-33)/33) * 100\n",
    "\n",
    "earnings_change_25_to_26 = ln_age_coeff_c * pct_change_age_25_to_26\n",
    "earnings_change_33_to_34 = ln_age_coeff_c * pct_change_age_33_to_34\n",
    "\n",
    "print(f\"{earnings_change_25_to_26=}\")\n",
    "print(f\"{earnings_change_33_to_34=}\")"
   ]
  },
  {
   "cell_type": "markdown",
   "id": "ddd7bd38",
   "metadata": {},
   "source": [
    "In this model, we now have a log-log model for which the coefficient of the logarithmic term represents the elasticity of the variable of earnings changing with age, that is, the percentage amount that the earnings will change as the age changes. Looking at the coefficient, we see that a 1% increase in age leads to a 0.7153749610992853% change in the earnings, so we can do simple arithmetic by multiplying to convert the percentage change in age to the relevant percentage change in earnings. Doing this, we find that the change for 25 to 26 is **2.8614998443971413%** and the change for 33 to 34 is **2.1678029124220766%**."
   ]
  },
  {
   "cell_type": "markdown",
   "id": "f45a2e79",
   "metadata": {},
   "source": [
    "##### d. Run a regression of the logarithm of average hourly earnings, ln(AHE), on Age, Age^2, Female, and Bachelor. If age increases from 25 to 26, how are earnings expected to change? If age increases from 33 to 34, how are earnings expected to change?"
   ]
  },
  {
   "cell_type": "code",
   "execution_count": null,
   "id": "a41a6a95",
   "metadata": {},
   "outputs": [
    {
     "name": "stdout",
     "output_type": "stream",
     "text": [
      "model_d.summary()=<class 'statsmodels.iolib.summary.Summary'>\n",
      "\"\"\"\n",
      "                            OLS Regression Results                            \n",
      "==============================================================================\n",
      "Dep. Variable:                 ln_ahe   R-squared:                       0.209\n",
      "Model:                            OLS   Adj. R-squared:                  0.209\n",
      "Method:                 Least Squares   F-statistic:                     468.6\n",
      "Date:                Sat, 16 Aug 2025   Prob (F-statistic):               0.00\n",
      "Time:                        06:17:30   Log-Likelihood:                -4819.1\n",
      "No. Observations:                7098   AIC:                             9648.\n",
      "Df Residuals:                    7093   BIC:                             9682.\n",
      "Df Model:                           4                                         \n",
      "Covariance Type:            nonrobust                                         \n",
      "===============================================================================\n",
      "                  coef    std err          t      P>|t|      [0.025      0.975]\n",
      "-------------------------------------------------------------------------------\n",
      "Intercept       0.4187      0.672      0.623      0.533      -0.899       1.736\n",
      "age             0.1341      0.046      2.929      0.003       0.044       0.224\n",
      "age_squared    -0.0019      0.001     -2.403      0.016      -0.003      -0.000\n",
      "female         -0.1774      0.012    -15.256      0.000      -0.200      -0.155\n",
      "bachelor        0.4616      0.011     40.236      0.000       0.439       0.484\n",
      "==============================================================================\n",
      "Omnibus:                      182.315   Durbin-Watson:                   1.944\n",
      "Prob(Omnibus):                  0.000   Jarque-Bera (JB):              302.731\n",
      "Skew:                          -0.234   Prob(JB):                     1.83e-66\n",
      "Kurtosis:                       3.897   Cond. No.                     1.07e+05\n",
      "==============================================================================\n",
      "\n",
      "Notes:\n",
      "[1] Standard Errors assume that the covariance matrix of the errors is correctly specified.\n",
      "[2] The condition number is large, 1.07e+05. This might indicate that there are\n",
      "strong multicollinearity or other numerical problems.\n",
      "\"\"\"\n",
      "marginal_age_effect(25)=0.041100786801177264\n",
      "marginal_effect_25=0.041100786801177264\n",
      "marginal_effect_33=0.011336188193903682\n"
     ]
    }
   ],
   "source": [
    "cps_df[\"age_squared\"] = cps_df[\"age\"] ** 2\n",
    "\n",
    "model_d = ols(\"ln_ahe ~ age + age_squared + female + bachelor\", data=cps_df).fit()\n",
    "print(f\"{model_d.summary()=}\")\n",
    "\n",
    "def marginal_age_effect(age):\n",
    "    age_coeff = model_d.params[\"age\"]\n",
    "    age_squared_coeff = model_d.params[\"age_squared\"]\n",
    "    return age_coeff + 2 * age_squared_coeff * age\n",
    "\n",
    "print(f\"{marginal_age_effect(25)=}\")\n",
    "print(f\"{marginal_age_effect(33)=}\")"
   ]
  },
  {
   "cell_type": "markdown",
   "id": "a8cf299c",
   "metadata": {},
   "source": [
    "We have to find the marginal effect by taking the derivative relative to age in the model, i.e.:\n",
    "\n",
    "> ln(ahe) = age_coeff * age + age_squared_coeff * age^2 + other terms\n",
    "\n",
    "> d/age ln(ahe) = age_coeff + 2 * age_squared_coeff * age\n",
    "\n",
    "Then we can find the marginal effect for the two ages by plugging in the values of 25 and 33, respectively, and then multiplying by the coefficient for age to find the percentage change in earnings. Calculating this, we find that the change for 25 to 26 is **4.1100786801177264%** and the change for 33 to 34 is **1.1336188193903682%**."
   ]
  },
  {
   "cell_type": "markdown",
   "id": "13266271",
   "metadata": {},
   "source": [
    "##### e. Do you prefer the regression in (c) to the regression in (b)? Explain."
   ]
  },
  {
   "cell_type": "markdown",
   "id": "8e4ab758",
   "metadata": {},
   "source": [
    "I would prefer the regression in (c) because the regression in (b) only measures absolute changes as a result of the variables being changed, which is not really useful or comparable across different ranges of earners, while the regression in (c) is better in being able to measure both varying returns and relative at different ages which is much more useful. The ability to intuitively understand the elasticity of earnings as age increases is more useful than absolute changes."
   ]
  },
  {
   "cell_type": "markdown",
   "id": "23d25ca5",
   "metadata": {},
   "source": [
    "##### f. Do you prefer the regression in (d) to the regression in (b)? Explain."
   ]
  },
  {
   "cell_type": "markdown",
   "id": "3242203c",
   "metadata": {},
   "source": [
    "I would prefer the regression in (d) because as previously stated, the regression in (b) only measures absolute changes as a result of the variables being changed, which is not really useful or comparable across different ranges of earners, while the regression in (d) is better in being able to measure both varying returns and relative at different ages which is much more useful. Being able to measure the marginal effect of age on earnings is more useful than the absolute changes themselves."
   ]
  },
  {
   "cell_type": "markdown",
   "id": "b0736a12",
   "metadata": {},
   "source": [
    "##### g. Do you prefer the regression in (d) to the regression in (c)? Explain."
   ]
  },
  {
   "cell_type": "markdown",
   "id": "71d02365",
   "metadata": {},
   "source": [
    "I would prefer the regression in (d). While both are adaptable in showing effects on earnings that change as age increases, the regression in (d) is more flexible in that it allows for a non-linear relationship between age and earnings, which is likely more realistic and accurate as this relationship is highly complex in the real world. In addition, the elasticity as specified in the regression in (c) is constant over time, which seems to be a bit simplistic."
   ]
  },
  {
   "cell_type": "markdown",
   "id": "a934d5e4",
   "metadata": {},
   "source": [
    "##### h. Run a regression of ln(AHE), on Age, Age^2, Female, Bachelor, and the interaction term Female*Bachelor. What does the coefficient on the interaction term measure? Alexis is a 30-year-old female with a bachelor’s degree. What does the regression predict for her value of ln(AHE)? Jane is a 30-year-old female with a high school degree. What does the regression predict for her value of ln(AHE)? What is the predicted difference between Alexis’s and Jane’s earnings? Bob is a 30-year-old male with a bachelor’s degree. What does the regression predict for his value of ln(AHE)? Jim is a 30-year-old male with a high school degree. What does the regression predict for his value of ln(AHE)? What is the predicted difference between Bob’s and Jim’s earnings?"
   ]
  },
  {
   "cell_type": "code",
   "execution_count": 45,
   "id": "6e3eebe6",
   "metadata": {},
   "outputs": [
    {
     "name": "stdout",
     "output_type": "stream",
     "text": [
      "model_h.summary()=<class 'statsmodels.iolib.summary.Summary'>\n",
      "\"\"\"\n",
      "                            OLS Regression Results                            \n",
      "==============================================================================\n",
      "Dep. Variable:                 ln_ahe   R-squared:                       0.209\n",
      "Model:                            OLS   Adj. R-squared:                  0.209\n",
      "Method:                 Least Squares   F-statistic:                     375.1\n",
      "Date:                Sat, 16 Aug 2025   Prob (F-statistic):               0.00\n",
      "Time:                        06:39:56   Log-Likelihood:                -4818.5\n",
      "No. Observations:                7098   AIC:                             9649.\n",
      "Df Residuals:                    7092   BIC:                             9690.\n",
      "Df Model:                           5                                         \n",
      "Covariance Type:            nonrobust                                         \n",
      "===================================================================================\n",
      "                      coef    std err          t      P>|t|      [0.025      0.975]\n",
      "-----------------------------------------------------------------------------------\n",
      "Intercept           0.4119      0.672      0.613      0.540      -0.906       1.729\n",
      "age                 0.1348      0.046      2.944      0.003       0.045       0.225\n",
      "age_squared        -0.0019      0.001     -2.416      0.016      -0.003      -0.000\n",
      "female             -0.1903      0.017    -10.955      0.000      -0.224      -0.156\n",
      "bachelor            0.4521      0.015     30.379      0.000       0.423       0.481\n",
      "female_bachelor     0.0235      0.023      1.004      0.315      -0.022       0.069\n",
      "==============================================================================\n",
      "Omnibus:                      181.391   Durbin-Watson:                   1.944\n",
      "Prob(Omnibus):                  0.000   Jarque-Bera (JB):              300.574\n",
      "Skew:                          -0.234   Prob(JB):                     5.39e-66\n",
      "Kurtosis:                       3.893   Cond. No.                     1.07e+05\n",
      "==============================================================================\n",
      "\n",
      "Notes:\n",
      "[1] Standard Errors assume that the covariance matrix of the errors is correctly specified.\n",
      "[2] The condition number is large, 1.07e+05. This might indicate that there are\n",
      "strong multicollinearity or other numerical problems.\n",
      "\"\"\"\n",
      "alexis_ln_ahe=3.057717242724363\n",
      "jane_ln_ahe=2.5821294247778046\n",
      "alexis_jane_diff=8.053656637447899\n",
      "bob_ln_ahe=3.2245672291181027\n",
      "jim_ln_ahe=2.7724535719982715\n",
      "bob_jim_diff=9.144853034268806\n"
     ]
    }
   ],
   "source": [
    "cps_df[\"female_bachelor\"] = cps_df[\"female\"] * cps_df[\"bachelor\"]\n",
    "\n",
    "model_h = ols(\"ln_ahe ~ age + age_squared + female + bachelor + female_bachelor\", data=cps_df).fit()\n",
    "print(f\"{model_h.summary()=}\")\n",
    "\n",
    "alexis_ln_ahe = (model_h.params[\"Intercept\"] + \n",
    "                 model_h.params[\"age\"] * 30 +\n",
    "                 model_h.params[\"age_squared\"] * 30 ** 2 +\n",
    "                 model_h.params[\"female\"] * 1 +\n",
    "                 model_h.params[\"bachelor\"] * 1 +\n",
    "                 model_h.params[\"female_bachelor\"] * 1)\n",
    "print(f\"{alexis_ln_ahe=}\")\n",
    "\n",
    "jane_ln_ahe = (model_h.params[\"Intercept\"] + \n",
    "               model_h.params[\"age\"] * 30 +\n",
    "               model_h.params[\"age_squared\"] * 30 ** 2 +\n",
    "               model_h.params[\"female\"] * 1 +\n",
    "               model_h.params[\"bachelor\"] * 0 +\n",
    "               model_h.params[\"female_bachelor\"] * 0)\n",
    "print(f\"{jane_ln_ahe=}\")\n",
    "\n",
    "alexis_jane_diff = np.exp(alexis_ln_ahe) - np.exp(jane_ln_ahe)\n",
    "print(f\"{alexis_jane_diff=}\")\n",
    "\n",
    "bob_ln_ahe = (model_h.params[\"Intercept\"] + \n",
    "              model_h.params[\"age\"] * 30 +\n",
    "              model_h.params[\"age_squared\"] * 30 ** 2 +\n",
    "              model_h.params[\"female\"] * 0 +\n",
    "              model_h.params[\"bachelor\"] * 1 +\n",
    "              model_h.params[\"female_bachelor\"] * 0)\n",
    "print(f\"{bob_ln_ahe=}\")\n",
    "\n",
    "jim_ln_ahe = (model_h.params[\"Intercept\"] + \n",
    "              model_h.params[\"age\"] * 30 +\n",
    "              model_h.params[\"age_squared\"] * 30 ** 2 +\n",
    "              model_h.params[\"female\"] * 0 +\n",
    "              model_h.params[\"bachelor\"] * 0 +\n",
    "              model_h.params[\"female_bachelor\"] * 0)\n",
    "print(f\"{jim_ln_ahe=}\")\n",
    "\n",
    "bob_jim_diff = np.exp(bob_ln_ahe) - np.exp(jim_ln_ahe)\n",
    "print(f\"{bob_jim_diff=}\")"
   ]
  },
  {
   "cell_type": "markdown",
   "id": "f6794ca1",
   "metadata": {},
   "source": [
    "The coefficient on the interaction term measures the additional effect of having a bachelor's degree for women beyond just the already included effects of separately being a woman and having a bachelor's on earnings, that is, any difference in earnings of having a bachelor's degree between men and women.\n",
    "\n",
    "We see from the calculations above the following:\n",
    "- Alexis' predicted ln(AHE) is **3.057717242724363**\n",
    "- Jane's predicted ln(AHE) is **2.5821294247778046**\n",
    "- The difference between Alexis's and Jane's earnings is **$8.053656637447899 per hour**\n",
    "- Bob's predicted ln(AHE) is **3.2245672291181027**\n",
    "- Jim's predicted ln(AHE) is **2.7724535719982715**\n",
    "- The difference between Bob's and Jim's earnings is **$9.144853034268806 per hour**"
   ]
  },
  {
   "cell_type": "markdown",
   "id": "e6b03af6",
   "metadata": {},
   "source": [
    "##### i. Is the effect of age on earnings different for men than for women? Specify and estimate a regression that you can use to answer this question."
   ]
  },
  {
   "cell_type": "code",
   "execution_count": 46,
   "id": "06b83a4b",
   "metadata": {},
   "outputs": [
    {
     "name": "stdout",
     "output_type": "stream",
     "text": [
      "model_i.summary()=<class 'statsmodels.iolib.summary.Summary'>\n",
      "\"\"\"\n",
      "                            OLS Regression Results                            \n",
      "==============================================================================\n",
      "Dep. Variable:                 ln_ahe   R-squared:                       0.210\n",
      "Model:                            OLS   Adj. R-squared:                  0.209\n",
      "Method:                 Least Squares   F-statistic:                     313.4\n",
      "Date:                Sat, 16 Aug 2025   Prob (F-statistic):               0.00\n",
      "Time:                        06:53:55   Log-Likelihood:                -4816.4\n",
      "No. Observations:                7098   AIC:                             9647.\n",
      "Df Residuals:                    7091   BIC:                             9695.\n",
      "Df Model:                           6                                         \n",
      "Covariance Type:            nonrobust                                         \n",
      "======================================================================================\n",
      "                         coef    std err          t      P>|t|      [0.025      0.975]\n",
      "--------------------------------------------------------------------------------------\n",
      "Intercept              0.2920      0.882      0.331      0.741      -1.437       2.021\n",
      "age                    0.1388      0.060      2.312      0.021       0.021       0.256\n",
      "age_squared           -0.0019      0.001     -1.849      0.064      -0.004       0.000\n",
      "female                -0.0098      1.363     -0.007      0.994      -2.681       2.661\n",
      "bachelor               0.4607      0.011     40.142      0.000       0.438       0.483\n",
      "female_age            -0.0020      0.093     -0.022      0.983      -0.184       0.180\n",
      "female_age_squared    -0.0001      0.002     -0.077      0.939      -0.003       0.003\n",
      "==============================================================================\n",
      "Omnibus:                      183.160   Durbin-Watson:                   1.945\n",
      "Prob(Omnibus):                  0.000   Jarque-Bera (JB):              305.993\n",
      "Skew:                          -0.233   Prob(JB):                     3.58e-67\n",
      "Kurtosis:                       3.904   Cond. No.                     2.65e+05\n",
      "==============================================================================\n",
      "\n",
      "Notes:\n",
      "[1] Standard Errors assume that the covariance matrix of the errors is correctly specified.\n",
      "[2] The condition number is large, 2.65e+05. This might indicate that there are\n",
      "strong multicollinearity or other numerical problems.\n",
      "\"\"\"\n",
      "model_i.params['female_age']=-0.0020375336184010606\n",
      "model_i.pvalues['female_age']=0.9825028123815729\n",
      "model_i.params['female_age_squared']=-0.00012110805152292913\n",
      "model_i.pvalues['female_age_squared']=0.9385754060827849\n"
     ]
    }
   ],
   "source": [
    "# Add interaction terms both linearly and squared \n",
    "cps_df[\"female_age\"] = cps_df[\"female\"] * cps_df[\"age\"]\n",
    "cps_df[\"female_age_squared\"] = cps_df[\"female\"] * cps_df[\"age_squared\"]\n",
    "\n",
    "model_i = ols(\"ln_ahe ~ age + age_squared + female + bachelor + female_age + female_age_squared\", data=cps_df).fit()\n",
    "print(f\"{model_i.summary()=}\")\n",
    "\n",
    "print(f\"{model_i.params['female_age']=}\")\n",
    "print(f\"{model_i.pvalues['female_age']=}\")\n",
    "\n",
    "print(f\"{model_i.params['female_age_squared']=}\")\n",
    "print(f\"{model_i.pvalues['female_age_squared']=}\")"
   ]
  },
  {
   "cell_type": "markdown",
   "id": "4a3dc67a",
   "metadata": {},
   "source": [
    "After adding in the interaction terms for for female * age, we find both coefficients to be rather low and with very high p-values that are not statistically significant (>0.05), so we can conclude that the effect of age on earnings is likely not different between men and women."
   ]
  },
  {
   "cell_type": "markdown",
   "id": "e445e147",
   "metadata": {},
   "source": [
    "##### j. Is the effect of age on earnings different for high school graduates than for college graduates? Specify and estimate a regression that you can use to answer this question."
   ]
  },
  {
   "cell_type": "code",
   "execution_count": 48,
   "id": "a9d1c1b4",
   "metadata": {},
   "outputs": [
    {
     "name": "stdout",
     "output_type": "stream",
     "text": [
      "model_j.summary()=<class 'statsmodels.iolib.summary.Summary'>\n",
      "\"\"\"\n",
      "                            OLS Regression Results                            \n",
      "==============================================================================\n",
      "Dep. Variable:                 ln_ahe   R-squared:                       0.209\n",
      "Model:                            OLS   Adj. R-squared:                  0.209\n",
      "Method:                 Least Squares   F-statistic:                     312.7\n",
      "Date:                Sat, 16 Aug 2025   Prob (F-statistic):               0.00\n",
      "Time:                        07:02:04   Log-Likelihood:                -4818.0\n",
      "No. Observations:                7098   AIC:                             9650.\n",
      "Df Residuals:                    7091   BIC:                             9698.\n",
      "Df Model:                           6                                         \n",
      "Covariance Type:            nonrobust                                         \n",
      "========================================================================================\n",
      "                           coef    std err          t      P>|t|      [0.025      0.975]\n",
      "----------------------------------------------------------------------------------------\n",
      "Intercept                0.0785      0.966      0.081      0.935      -1.816       1.973\n",
      "age                      0.1601      0.066      2.432      0.015       0.031       0.289\n",
      "age_squared             -0.0023      0.001     -2.107      0.035      -0.005      -0.000\n",
      "female                  -0.1769      0.012    -15.208      0.000      -0.200      -0.154\n",
      "bachelor                 1.1166      1.345      0.830      0.406      -1.520       3.753\n",
      "bachelor_age            -0.0500      0.092     -0.546      0.585      -0.230       0.130\n",
      "bachelor_age_squared     0.0009      0.002      0.602      0.547      -0.002       0.004\n",
      "==============================================================================\n",
      "Omnibus:                      182.523   Durbin-Watson:                   1.943\n",
      "Prob(Omnibus):                  0.000   Jarque-Bera (JB):              303.489\n",
      "Skew:                          -0.234   Prob(JB):                     1.25e-66\n",
      "Kurtosis:                       3.898   Cond. No.                     2.87e+05\n",
      "==============================================================================\n",
      "\n",
      "Notes:\n",
      "[1] Standard Errors assume that the covariance matrix of the errors is correctly specified.\n",
      "[2] The condition number is large, 2.87e+05. This might indicate that there are\n",
      "strong multicollinearity or other numerical problems.\n",
      "\"\"\"\n",
      "model_j.params['bachelor_age']=-0.04999488380442396\n",
      "model_j.pvalues['bachelor_age']=0.5853787577766819\n",
      "model_j.params['bachelor_age_squared']=0.0009324474823376502\n",
      "model_j.pvalues['bachelor_age_squared']=0.5473168952144802\n"
     ]
    }
   ],
   "source": [
    "# Add interaction terms both linearly and squared \n",
    "cps_df[\"bachelor_age\"] = cps_df[\"bachelor\"] * cps_df[\"age\"]\n",
    "cps_df[\"bachelor_age_squared\"] = cps_df[\"bachelor\"] * cps_df[\"age_squared\"]\n",
    "\n",
    "model_j = ols(\"ln_ahe ~ age + age_squared + female + bachelor + bachelor_age + bachelor_age_squared\", data=cps_df).fit()\n",
    "print(f\"{model_j.summary()=}\")\n",
    "\n",
    "print(f\"{model_j.params['bachelor_age']=}\")\n",
    "print(f\"{model_j.pvalues['bachelor_age']=}\")\n",
    "\n",
    "print(f\"{model_j.params['bachelor_age_squared']=}\")\n",
    "print(f\"{model_j.pvalues['bachelor_age_squared']=}\")"
   ]
  },
  {
   "cell_type": "markdown",
   "id": "0b281817",
   "metadata": {},
   "source": [
    "After adding in the interaction terms for for bachelor * age, we find both coefficients to be low and with very high p-values that are not statistically significant (>0.05), although with both of these values holding a bit more value and impact than when compared to the female * age terms. Nonetheless, we can conclude that the effect of age on earnings is likely not different between high school and college graduates."
   ]
  },
  {
   "cell_type": "markdown",
   "id": "d4fcd704",
   "metadata": {},
   "source": [
    "##### k. After running all these regressions, summarize the effect of age on earnings for young workers."
   ]
  },
  {
   "cell_type": "markdown",
   "id": "a6c99f28",
   "metadata": {},
   "source": [
    "For younger workers, the effect of increased age on earnings is generally positive, but the marginal effect of increased age on earnings decreases as age continues to increase. This means that while older workers do indeed tend to earn more than younger workers, the rate at which their earnings increase slows down with age. In addition, there seem to be little differences in this effect of age on earnings when comparing across gender or education differences. Overall, younger workers get more value from increased age in terms of earnings compared to older workers."
   ]
  },
  {
   "cell_type": "markdown",
   "id": "ab9bc45e",
   "metadata": {},
   "source": [
    "##### Extra Credit (5 points):\n",
    "In a few sentences, describe something you learned/discovered through this assignment."
   ]
  },
  {
   "cell_type": "markdown",
   "id": "06b87859",
   "metadata": {},
   "source": [
    "I wasn't aware of the marginal effect of age on earnings decreasing over time. I think that I had some thoughts around ageism in certain industries and how this would affect overall employment, which in turn could possibly mean that there may be a tendency for older people to be better paid and therefore for earnings to accelerate more steeply on average for higher ages. The regressions seem to generally reflect that this is not the case. In addition, the effect of gender seemed to generally be rather small on earnings, which I also found to be interesting and could warrant further investigation into furhter breakdowns such as categorizations of jobs and career lengths."
   ]
  }
 ],
 "metadata": {
  "kernelspec": {
   "display_name": "res_latest",
   "language": "python",
   "name": "python3"
  },
  "language_info": {
   "codemirror_mode": {
    "name": "ipython",
    "version": 3
   },
   "file_extension": ".py",
   "mimetype": "text/x-python",
   "name": "python",
   "nbconvert_exporter": "python",
   "pygments_lexer": "ipython3",
   "version": "3.11.11"
  }
 },
 "nbformat": 4,
 "nbformat_minor": 5
}
