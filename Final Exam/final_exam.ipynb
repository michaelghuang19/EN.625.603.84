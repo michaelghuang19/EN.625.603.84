{
 "cells": [
  {
   "cell_type": "markdown",
   "id": "0f8212d1",
   "metadata": {},
   "source": [
    "## Final Exam\n",
    "\n",
    "Michael Huang\n",
    "\n",
    "EN.625.603.84\n"
   ]
  },
  {
   "cell_type": "code",
   "execution_count": null,
   "id": "5da39bd6",
   "metadata": {},
   "outputs": [],
   "source": [
    "import numpy as np"
   ]
  }
 ],
 "metadata": {
  "language_info": {
   "name": "python"
  }
 },
 "nbformat": 4,
 "nbformat_minor": 5
}
