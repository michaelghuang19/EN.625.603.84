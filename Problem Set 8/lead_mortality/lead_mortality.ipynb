{
 "cells": [
  {
   "cell_type": "markdown",
   "id": "7b2a6f33",
   "metadata": {},
   "source": [
    "## Lead Mortality Analysis"
   ]
  },
  {
   "cell_type": "markdown",
   "id": "9dd5803d",
   "metadata": {},
   "source": [
    "Initial Setup"
   ]
  },
  {
   "cell_type": "code",
   "execution_count": 2,
   "id": "14d10564",
   "metadata": {},
   "outputs": [
    {
     "data": {
      "text/html": [
       "<div>\n",
       "<style scoped>\n",
       "    .dataframe tbody tr th:only-of-type {\n",
       "        vertical-align: middle;\n",
       "    }\n",
       "\n",
       "    .dataframe tbody tr th {\n",
       "        vertical-align: top;\n",
       "    }\n",
       "\n",
       "    .dataframe thead th {\n",
       "        text-align: right;\n",
       "    }\n",
       "</style>\n",
       "<table border=\"1\" class=\"dataframe\">\n",
       "  <thead>\n",
       "    <tr style=\"text-align: right;\">\n",
       "      <th></th>\n",
       "      <th>year</th>\n",
       "      <th>city</th>\n",
       "      <th>state</th>\n",
       "      <th>age</th>\n",
       "      <th>hardness</th>\n",
       "      <th>ph</th>\n",
       "      <th>infrate</th>\n",
       "      <th>typhoid_rate</th>\n",
       "      <th>np_tub_rate</th>\n",
       "      <th>mom_rate</th>\n",
       "      <th>population</th>\n",
       "      <th>precipitation</th>\n",
       "      <th>temperature</th>\n",
       "      <th>lead</th>\n",
       "      <th>foreign_share</th>\n",
       "    </tr>\n",
       "  </thead>\n",
       "  <tbody>\n",
       "    <tr>\n",
       "      <th>0</th>\n",
       "      <td>1900</td>\n",
       "      <td>Alameda</td>\n",
       "      <td>CA</td>\n",
       "      <td>28.954838</td>\n",
       "      <td>97</td>\n",
       "      <td>7.6</td>\n",
       "      <td>0.109756</td>\n",
       "      <td>0.024390</td>\n",
       "      <td>0.030488</td>\n",
       "      <td>0.195122</td>\n",
       "      <td>164.0</td>\n",
       "      <td>1.850307</td>\n",
       "      <td>59.026169</td>\n",
       "      <td>0</td>\n",
       "      <td>0.193548</td>\n",
       "    </tr>\n",
       "    <tr>\n",
       "      <th>1</th>\n",
       "      <td>1900</td>\n",
       "      <td>Albany</td>\n",
       "      <td>NY</td>\n",
       "      <td>30.347675</td>\n",
       "      <td>43</td>\n",
       "      <td>7.3</td>\n",
       "      <td>0.298618</td>\n",
       "      <td>0.041445</td>\n",
       "      <td>0.013815</td>\n",
       "      <td>0.179596</td>\n",
       "      <td>941.0</td>\n",
       "      <td>3.278735</td>\n",
       "      <td>45.267910</td>\n",
       "      <td>1</td>\n",
       "      <td>0.184884</td>\n",
       "    </tr>\n",
       "    <tr>\n",
       "      <th>2</th>\n",
       "      <td>1900</td>\n",
       "      <td>Allegheny</td>\n",
       "      <td>PA</td>\n",
       "      <td>27.087301</td>\n",
       "      <td>111</td>\n",
       "      <td>7.3</td>\n",
       "      <td>0.446841</td>\n",
       "      <td>0.093991</td>\n",
       "      <td>0.027735</td>\n",
       "      <td>0.192604</td>\n",
       "      <td>1298.0</td>\n",
       "      <td>3.350943</td>\n",
       "      <td>48.971493</td>\n",
       "      <td>1</td>\n",
       "      <td>0.237302</td>\n",
       "    </tr>\n",
       "    <tr>\n",
       "      <th>3</th>\n",
       "      <td>1900</td>\n",
       "      <td>Allentown</td>\n",
       "      <td>PA</td>\n",
       "      <td>27.764046</td>\n",
       "      <td>176</td>\n",
       "      <td>7.7</td>\n",
       "      <td>0.384181</td>\n",
       "      <td>0.028249</td>\n",
       "      <td>0.005650</td>\n",
       "      <td>0.197740</td>\n",
       "      <td>354.0</td>\n",
       "      <td>3.350943</td>\n",
       "      <td>48.971493</td>\n",
       "      <td>1</td>\n",
       "      <td>0.078652</td>\n",
       "    </tr>\n",
       "    <tr>\n",
       "      <th>4</th>\n",
       "      <td>1900</td>\n",
       "      <td>Altoona</td>\n",
       "      <td>PA</td>\n",
       "      <td>27.037533</td>\n",
       "      <td>111</td>\n",
       "      <td>7.3</td>\n",
       "      <td>0.467866</td>\n",
       "      <td>0.043702</td>\n",
       "      <td>0.007712</td>\n",
       "      <td>0.182519</td>\n",
       "      <td>389.0</td>\n",
       "      <td>3.350943</td>\n",
       "      <td>48.971493</td>\n",
       "      <td>0</td>\n",
       "      <td>0.112601</td>\n",
       "    </tr>\n",
       "    <tr>\n",
       "      <th>...</th>\n",
       "      <td>...</td>\n",
       "      <td>...</td>\n",
       "      <td>...</td>\n",
       "      <td>...</td>\n",
       "      <td>...</td>\n",
       "      <td>...</td>\n",
       "      <td>...</td>\n",
       "      <td>...</td>\n",
       "      <td>...</td>\n",
       "      <td>...</td>\n",
       "      <td>...</td>\n",
       "      <td>...</td>\n",
       "      <td>...</td>\n",
       "      <td>...</td>\n",
       "      <td>...</td>\n",
       "    </tr>\n",
       "    <tr>\n",
       "      <th>167</th>\n",
       "      <td>1900</td>\n",
       "      <td>Wilmington</td>\n",
       "      <td>NC</td>\n",
       "      <td>28.554945</td>\n",
       "      <td>20</td>\n",
       "      <td>6.8</td>\n",
       "      <td>0.741627</td>\n",
       "      <td>0.100478</td>\n",
       "      <td>0.057416</td>\n",
       "      <td>0.229665</td>\n",
       "      <td>209.0</td>\n",
       "      <td>4.122792</td>\n",
       "      <td>59.117619</td>\n",
       "      <td>0</td>\n",
       "      <td>0.027473</td>\n",
       "    </tr>\n",
       "    <tr>\n",
       "      <th>168</th>\n",
       "      <td>1900</td>\n",
       "      <td>Woonsocket</td>\n",
       "      <td>RI</td>\n",
       "      <td>25.320946</td>\n",
       "      <td>2</td>\n",
       "      <td>5.7</td>\n",
       "      <td>0.744681</td>\n",
       "      <td>0.028369</td>\n",
       "      <td>0.039007</td>\n",
       "      <td>0.191489</td>\n",
       "      <td>282.0</td>\n",
       "      <td>3.646396</td>\n",
       "      <td>49.446857</td>\n",
       "      <td>1</td>\n",
       "      <td>0.500000</td>\n",
       "    </tr>\n",
       "    <tr>\n",
       "      <th>169</th>\n",
       "      <td>1900</td>\n",
       "      <td>Worcester</td>\n",
       "      <td>MA</td>\n",
       "      <td>28.088810</td>\n",
       "      <td>21</td>\n",
       "      <td>6.5</td>\n",
       "      <td>0.429054</td>\n",
       "      <td>0.025338</td>\n",
       "      <td>0.024493</td>\n",
       "      <td>0.184966</td>\n",
       "      <td>1184.0</td>\n",
       "      <td>3.613845</td>\n",
       "      <td>47.724197</td>\n",
       "      <td>0</td>\n",
       "      <td>0.309947</td>\n",
       "    </tr>\n",
       "    <tr>\n",
       "      <th>170</th>\n",
       "      <td>1900</td>\n",
       "      <td>Yonkers</td>\n",
       "      <td>NY</td>\n",
       "      <td>26.678278</td>\n",
       "      <td>110</td>\n",
       "      <td>7.1</td>\n",
       "      <td>0.446764</td>\n",
       "      <td>0.006263</td>\n",
       "      <td>0.039666</td>\n",
       "      <td>0.208768</td>\n",
       "      <td>479.0</td>\n",
       "      <td>3.278735</td>\n",
       "      <td>45.267910</td>\n",
       "      <td>1</td>\n",
       "      <td>0.329918</td>\n",
       "    </tr>\n",
       "    <tr>\n",
       "      <th>171</th>\n",
       "      <td>1900</td>\n",
       "      <td>Youngstown</td>\n",
       "      <td>OH</td>\n",
       "      <td>25.205418</td>\n",
       "      <td>111</td>\n",
       "      <td>7.3</td>\n",
       "      <td>0.314732</td>\n",
       "      <td>0.082589</td>\n",
       "      <td>0.004464</td>\n",
       "      <td>0.183036</td>\n",
       "      <td>448.0</td>\n",
       "      <td>3.193538</td>\n",
       "      <td>50.735527</td>\n",
       "      <td>1</td>\n",
       "      <td>0.234763</td>\n",
       "    </tr>\n",
       "  </tbody>\n",
       "</table>\n",
       "<p>172 rows × 15 columns</p>\n",
       "</div>"
      ],
      "text/plain": [
       "     year        city state        age  hardness   ph   infrate  typhoid_rate  \\\n",
       "0    1900     Alameda    CA  28.954838        97  7.6  0.109756      0.024390   \n",
       "1    1900      Albany    NY  30.347675        43  7.3  0.298618      0.041445   \n",
       "2    1900   Allegheny    PA  27.087301       111  7.3  0.446841      0.093991   \n",
       "3    1900   Allentown    PA  27.764046       176  7.7  0.384181      0.028249   \n",
       "4    1900     Altoona    PA  27.037533       111  7.3  0.467866      0.043702   \n",
       "..    ...         ...   ...        ...       ...  ...       ...           ...   \n",
       "167  1900  Wilmington    NC  28.554945        20  6.8  0.741627      0.100478   \n",
       "168  1900  Woonsocket    RI  25.320946         2  5.7  0.744681      0.028369   \n",
       "169  1900   Worcester    MA  28.088810        21  6.5  0.429054      0.025338   \n",
       "170  1900     Yonkers    NY  26.678278       110  7.1  0.446764      0.006263   \n",
       "171  1900  Youngstown    OH  25.205418       111  7.3  0.314732      0.082589   \n",
       "\n",
       "     np_tub_rate  mom_rate  population  precipitation  temperature  lead  \\\n",
       "0       0.030488  0.195122       164.0       1.850307    59.026169     0   \n",
       "1       0.013815  0.179596       941.0       3.278735    45.267910     1   \n",
       "2       0.027735  0.192604      1298.0       3.350943    48.971493     1   \n",
       "3       0.005650  0.197740       354.0       3.350943    48.971493     1   \n",
       "4       0.007712  0.182519       389.0       3.350943    48.971493     0   \n",
       "..           ...       ...         ...            ...          ...   ...   \n",
       "167     0.057416  0.229665       209.0       4.122792    59.117619     0   \n",
       "168     0.039007  0.191489       282.0       3.646396    49.446857     1   \n",
       "169     0.024493  0.184966      1184.0       3.613845    47.724197     0   \n",
       "170     0.039666  0.208768       479.0       3.278735    45.267910     1   \n",
       "171     0.004464  0.183036       448.0       3.193538    50.735527     1   \n",
       "\n",
       "     foreign_share  \n",
       "0         0.193548  \n",
       "1         0.184884  \n",
       "2         0.237302  \n",
       "3         0.078652  \n",
       "4         0.112601  \n",
       "..             ...  \n",
       "167       0.027473  \n",
       "168       0.500000  \n",
       "169       0.309947  \n",
       "170       0.329918  \n",
       "171       0.234763  \n",
       "\n",
       "[172 rows x 15 columns]"
      ]
     },
     "execution_count": 2,
     "metadata": {},
     "output_type": "execute_result"
    }
   ],
   "source": [
    "import matplotlib.pyplot as plt\n",
    "import numpy as np\n",
    "import pandas as pd\n",
    "import statsmodels.formula.api as smf\n",
    "\n",
    "from scipy import stats\n",
    "\n",
    "# Converted to csv since pandas wasn't playing nice\n",
    "lead_df = pd.read_csv(\"lead_mortality-1.csv\")\n",
    "lead_df"
   ]
  },
  {
   "cell_type": "markdown",
   "id": "e2e6e478",
   "metadata": {
    "vscode": {
     "languageId": "plaintext"
    }
   },
   "source": [
    "#### A. Compute the average infant mortality rate (Inf) for cities with lead pipes and for cities with non-lead pipes. Is there a statistically significant difference in the averages?\n"
   ]
  },
  {
   "cell_type": "code",
   "execution_count": null,
   "id": "59fbff79",
   "metadata": {},
   "outputs": [
    {
     "name": "stdout",
     "output_type": "stream",
     "text": [
      "avg_lead_infant_mortality_rate=0.4032575763188876\n",
      "avg_non_lead_infant_mortality_rate=0.3811678507111289\n",
      "p_value=0.37347109978795456\n"
     ]
    }
   ],
   "source": [
    "lead_cities = lead_df[lead_df[\"lead\"] == 1][\"infrate\"]\n",
    "non_lead_cities = lead_df[lead_df[\"lead\"] == 0][\"infrate\"]\n",
    "\n",
    "avg_lead_infant_mortality_rate = lead_cities.mean()\n",
    "avg_non_lead_infant_mortality_rate = non_lead_cities.mean()\n",
    "\n",
    "print(f\"{avg_lead_infant_mortality_rate=}\")\n",
    "print(f\"{avg_non_lead_infant_mortality_rate=}\")\n",
    "\n",
    "# Perform t-test -- this method applies to means for two independent samples\n",
    "t_stat, p_value = stats.ttest_ind(lead_cities, non_lead_cities)\n",
    "\n",
    "print(f\"{p_value=}\")"
   ]
  },
  {
   "cell_type": "markdown",
   "id": "8d5ce0a9",
   "metadata": {},
   "source": [
    "After performing a t-test, we see that we get With a p-value of 0.37347109978795456 which is much higher than the standard value of 0.05 which is used to determine statistical significance. So there is **not** a statistically significant difference."
   ]
  },
  {
   "cell_type": "markdown",
   "id": "dfc962b1",
   "metadata": {},
   "source": [
    "#### B. The amount of lead leached from lead pipes depends on the chemistry of the water running through the pipes. The more acidic the water (that is, the lower the pH), the more lead is leached. Run a regression of Inf on Lead, pH, and the interaction term Lead ×pH.\n"
   ]
  },
  {
   "cell_type": "code",
   "execution_count": 11,
   "id": "705a8422",
   "metadata": {},
   "outputs": [
    {
     "name": "stdout",
     "output_type": "stream",
     "text": [
      "model.summary()=<class 'statsmodels.iolib.summary.Summary'>\n",
      "\"\"\"\n",
      "                            OLS Regression Results                            \n",
      "==============================================================================\n",
      "Dep. Variable:                infrate   R-squared:                       0.272\n",
      "Model:                            OLS   Adj. R-squared:                  0.259\n",
      "Method:                 Least Squares   F-statistic:                     20.91\n",
      "Date:                Mon, 11 Aug 2025   Prob (F-statistic):           1.47e-11\n",
      "Time:                        01:32:01   Log-Likelihood:                 108.52\n",
      "No. Observations:                 172   AIC:                            -209.0\n",
      "Df Residuals:                     168   BIC:                            -196.5\n",
      "Df Model:                           3                                         \n",
      "Covariance Type:            nonrobust                                         \n",
      "==============================================================================\n",
      "                 coef    std err          t      P>|t|      [0.025      0.975]\n",
      "------------------------------------------------------------------------------\n",
      "Intercept      0.9189      0.174      5.267      0.000       0.574       1.263\n",
      "lead           0.4618      0.221      2.087      0.038       0.025       0.899\n",
      "ph            -0.0752      0.024     -3.098      0.002      -0.123      -0.027\n",
      "lead:ph       -0.0569      0.030     -1.871      0.063      -0.117       0.003\n",
      "==============================================================================\n",
      "Omnibus:                        4.916   Durbin-Watson:                   1.946\n",
      "Prob(Omnibus):                  0.086   Jarque-Bera (JB):                4.987\n",
      "Skew:                           0.411   Prob(JB):                       0.0826\n",
      "Kurtosis:                       2.861   Cond. No.                         252.\n",
      "==============================================================================\n",
      "\n",
      "Notes:\n",
      "[1] Standard Errors assume that the covariance matrix of the errors is correctly specified.\n",
      "\"\"\"\n"
     ]
    }
   ],
   "source": [
    "# This regression function is equivalent to R's lm function\n",
    "# The equation is defined by the first param, with the variables defined as described in the problem statement.\n",
    "model = smf.ols(\"infrate ~ lead + ph + lead:ph\", data=lead_df).fit()\n",
    "\n",
    "print(f\"{model.summary()=}\")"
   ]
  },
  {
   "cell_type": "markdown",
   "id": "d9488126",
   "metadata": {},
   "source": [
    "##### I. The regression includes four coefficients (the intercept and the three coefficients multiplying the regressors). Explain what each coefficient measures."
   ]
  },
  {
   "cell_type": "markdown",
   "id": "d1386716",
   "metadata": {},
   "source": [
    "- The intercept itself represents the baseline infant mortality rate for when lead and pH are both at 0. \n",
    "- The coefficient labeled \"lead\" is multiplied by the value of whether the city has lead or not. As this value is binary, it essentially just measures the expected difference in infant mortality rate between cities with lead and non-lead pipes.\n",
    "- The coefficient labeled \"pH\" is multiplied by the value of pH in the city's water. This essentially measures how much the infant mortality rate changes according to increases in pH.\n",
    "- The coefficient labeled \"lead:ph\" is multiplied by the value of whether the city has lead pipes multipled by pH. So this essentially measures any additional infant mortality rate changes due to the interactions between lead pipes in cities and water pH, with either affecting the other."
   ]
  },
  {
   "cell_type": "markdown",
   "id": "38efb9ea",
   "metadata": {},
   "source": [
    "##### II. Plot the estimated regression function relating Inf to pH for Lead = 0 and Lead = 1. Describe the differences in the regression functions and relate these differences to the coefficients discussed in (I)."
   ]
  },
  {
   "cell_type": "code",
   "execution_count": 36,
   "id": "93b87928",
   "metadata": {},
   "outputs": [
    {
     "data": {
      "image/png": "[encoded data removed]",
      "text/plain": [
       "<Figure size 640x480 with 1 Axes>"
      ]
     },
     "metadata": {},
     "output_type": "display_data"
    }
   ],
   "source": [
    "# First, grab the applicable coefficients:\n",
    "intercept = model.params[\"Intercept\"]\n",
    "beta_lead = model.params[\"lead\"]\n",
    "beta_ph = model.params[\"ph\"]\n",
    "beta_lead_ph_interaction = model.params[\"lead:ph\"]\n",
    "\n",
    "# pH is only possible from 0 to 14. 100 points should be good\n",
    "ph_range = np.linspace(0, 14, 100)\n",
    "\n",
    "# Include lead parts for lead; don't include for non-lead\n",
    "pred_lead = intercept + beta_lead + (beta_ph + beta_lead_ph_interaction) * ph_range\n",
    "pred_non_lead = intercept + beta_ph * ph_range\n",
    "\n",
    "plt.plot(ph_range, pred_non_lead, \"blue\", label=\"Non-lead pipes\")\n",
    "plt.plot(ph_range, pred_lead, \"red\", label=\"Lead pipes\")\n",
    "\n",
    "plt.xlabel(\"pH Level\")\n",
    "plt.ylabel(\"Infant Mortality Rate\")\n",
    "plt.title(\"Regression Functions: Infant Mortality Rate Change vs pH by Lead Pipe Presence\")\n",
    "\n",
    "plt.legend()\n",
    "plt.grid(True, alpha=0.5)\n",
    "plt.show()\n"
   ]
  },
  {
   "cell_type": "markdown",
   "id": "7aec5211",
   "metadata": {},
   "source": [
    "Between these two regression functions, we can see a few differences. Firstly, we see that the intercept is higher for lead pipes. This relates to the intercept coefficient we previously discussed, where the initial baseline infant mortality rate is therefore higher in cities with lead pipes. Secondly, we note that the slope is steeper for cities with lead pipes. This relates to the coefficient related to pH, where increases in pH lead to more drastic decreases in infant mortality rate in cities with lead pipes than those with non-lead pipes.\n",
    "\n"
   ]
  },
  {
   "cell_type": "markdown",
   "id": "1940f021",
   "metadata": {},
   "source": [
    "##### III. Does Lead have a statistically significant effect on infant mortality? Explain."
   ]
  },
  {
   "cell_type": "code",
   "execution_count": 52,
   "id": "e9014b4c",
   "metadata": {},
   "outputs": [
    {
     "name": "stdout",
     "output_type": "stream",
     "text": [
      "lead_coeff=0.4617984571303253\n",
      "lead_pvalue=0.4617984571303253\n",
      "lead_ph_interaction_coeff=-0.05686221714936894\n",
      "lead_ph_interaction_pvalue=0.06312008679405191\n"
     ]
    }
   ],
   "source": [
    "# Take the total effect of lead, which includes the interaction term\n",
    "lead_coeff = model.params[\"lead\"]\n",
    "lead_pvalue = model.params[\"lead\"]\n",
    "\n",
    "lead_ph_interaction_coeff = model.params[\"lead:ph\"]\n",
    "lead_ph_interaction_pvalue = model.pvalues[\"lead:ph\"]\n",
    "\n",
    "print(f\"{lead_coeff=}\")\n",
    "print(f\"{lead_pvalue=}\")\n",
    "\n",
    "print(f\"{lead_ph_interaction_coeff=}\")\n",
    "print(f\"{lead_ph_interaction_pvalue=}\")\n"
   ]
  },
  {
   "cell_type": "markdown",
   "id": "0423ac35",
   "metadata": {},
   "source": [
    "Both of the p-values of the lead interactions seem to not have statistically significant p-values (< 0.05), so it is likely that lead does not have a statistically significant effect on infant mortality."
   ]
  },
  {
   "cell_type": "markdown",
   "id": "b3a99bfc",
   "metadata": {},
   "source": [
    "##### IV. Does the effect of Lead on infant mortality depend on pH? Is this dependence statistically significant?"
   ]
  },
  {
   "cell_type": "code",
   "execution_count": 43,
   "id": "d914aad5",
   "metadata": {},
   "outputs": [
    {
     "name": "stdout",
     "output_type": "stream",
     "text": [
      "lead_ph_interaction_coeff=-0.05686221714936894\n",
      "lead_ph_interaction_pvalue=0.06312008679405191\n"
     ]
    }
   ],
   "source": [
    "lead_ph_interaction_coeff = model.params[\"lead:ph\"]\n",
    "lead_ph_interaction_pvalue = model.pvalues[\"lead:ph\"]\n",
    "\n",
    "print(f\"{lead_ph_interaction_coeff=}\")\n",
    "print(f\"{lead_ph_interaction_pvalue=}\")\n"
   ]
  },
  {
   "cell_type": "markdown",
   "id": "6ab732b7",
   "metadata": {},
   "source": [
    "There is a nonzero coefficient for the interaction term between lead and pH, so there seems to be some effect. However, the p-value fo the interaction term seems to suggest that this dependence is not statistically significant, with this being greater than the 0.05 threshold."
   ]
  },
  {
   "cell_type": "markdown",
   "id": "3659fde5",
   "metadata": {},
   "source": [
    "##### V. What is the average value of pH in the sample? At this pH level, what is the estimated effect of Lead on infant mortality? What is the standard deviation of pH? Suppose that the pH level is one standard deviation lower than the average level of pH in the sample; what is the estimated effect of Lead on infant mortality? What if pH is one standard deviation higher than the average value?"
   ]
  },
  {
   "cell_type": "code",
   "execution_count": 65,
   "id": "4c5ed9f0",
   "metadata": {},
   "outputs": [
    {
     "name": "stdout",
     "output_type": "stream",
     "text": [
      "mean_ph=7.32267442137696\n",
      "get_infrate_effect_of_lead_at_ph(mean_ph)=0.9240063021722229\n",
      "std_ph=0.6917287508713886\n",
      "one_std_lower_than_avg_ph=6.630945670505572\n",
      "get_infrate_effect_of_lead_at_ph(one_std_lower_than_avg_ph)=0.8803443233792798\n",
      "one_std_higher_than_avg_ph=8.014403172248349\n",
      "get_infrate_effect_of_lead_at_ph(one_std_higher_than_avg_ph)=0.9676682809651661\n"
     ]
    }
   ],
   "source": [
    "mean_ph = lead_df[\"ph\"].mean()\n",
    "print(f\"{mean_ph=}\")\n",
    "\n",
    "lead_coeff = model.params[\"lead\"]\n",
    "lead_ph_interaction_coeff = model.params[\"lead:ph\"]\n",
    "\n",
    "def get_infrate_effect_of_lead_at_ph(ph):\n",
    "    return lead_coeff + lead_ph_interaction_pvalue * ph\n",
    "\n",
    "print(f\"{get_infrate_effect_of_lead_at_ph(mean_ph)=}\")\n",
    "\n",
    "std_ph = lead_df[\"ph\"].std()\n",
    "print(f\"{std_ph=}\")\n",
    "\n",
    "one_std_lower_than_avg_ph = mean_ph - std_ph\n",
    "print(f\"{one_std_lower_than_avg_ph=}\")\n",
    "print(f\"{get_infrate_effect_of_lead_at_ph(one_std_lower_than_avg_ph)=}\")\n",
    "\n",
    "one_std_higher_than_avg_ph = mean_ph + std_ph\n",
    "print(f\"{one_std_higher_than_avg_ph=}\")\n",
    "print(f\"{get_infrate_effect_of_lead_at_ph(one_std_higher_than_avg_ph)=}\")"
   ]
  },
  {
   "cell_type": "markdown",
   "id": "fe7f6656",
   "metadata": {},
   "source": [
    "##### VI. Construct a 95% confidence interval for the effect of Lead on infant mortality when pH = 6.5.\n"
   ]
  },
  {
   "cell_type": "code",
   "execution_count": 84,
   "id": "893902e5",
   "metadata": {},
   "outputs": [
    {
     "name": "stdout",
     "output_type": "stream",
     "text": [
      "infrate_effect_of_lead_at_65_ph=0.8720790212916627\n"
     ]
    },
    {
     "data": {
      "text/plain": [
       "[array([[0.81035908]]), array([[0.93379896]])]"
      ]
     },
     "execution_count": 84,
     "metadata": {},
     "output_type": "execute_result"
    }
   ],
   "source": [
    "infrate_effect_of_lead_at_65_ph = get_infrate_effect_of_lead_at_ph(6.5)\n",
    "print(f\"{infrate_effect_of_lead_at_65_ph=}\")\n",
    "\n",
    "# Use t-test method to test the linear combination and find the standard error as a side result\n",
    "test_result = model.t_test(\"lead + lead:ph * 6.5 = 0\")\n",
    "lead_standard_error = test_result.sd\n",
    "\n",
    "# Find the critical t-value to multiple the standard error by to get the CI values\n",
    "df = model.df_resid\n",
    "alpha = 0.05\n",
    "critical_t_value = stats.t.ppf(1 - alpha/2, df)\n",
    "\n",
    "[infrate_effect_of_lead_at_65_ph - (lead_standard_error * critical_t_value), infrate_effect_of_lead_at_65_ph + (lead_standard_error * critical_t_value)]"
   ]
  },
  {
   "cell_type": "markdown",
   "id": "36ba97cc",
   "metadata": {},
   "source": [
    "#### C. The analysis in (b) may suffer from omitted variable bias because it neglects factors that affect infant mortality and that might potentially be correlated with Lead and pH. Investigate this concern, using the other variables in the data set.\n",
    "\n"
   ]
  },
  {
   "cell_type": "code",
   "execution_count": 15,
   "id": "6bb18a1a",
   "metadata": {},
   "outputs": [
    {
     "name": "stdout",
     "output_type": "stream",
     "text": [
      "neglected_factor_included_model.summary()=<class 'statsmodels.iolib.summary.Summary'>\n",
      "\"\"\"\n",
      "                            OLS Regression Results                            \n",
      "==============================================================================\n",
      "Dep. Variable:                infrate   R-squared:                       0.436\n",
      "Model:                            OLS   Adj. R-squared:                  0.408\n",
      "Method:                 Least Squares   F-statistic:                     15.73\n",
      "Date:                Mon, 11 Aug 2025   Prob (F-statistic):           4.69e-17\n",
      "Time:                        01:37:34   Log-Likelihood:                 130.45\n",
      "No. Observations:                 172   AIC:                            -242.9\n",
      "Df Residuals:                     163   BIC:                            -214.6\n",
      "Df Model:                           8                                         \n",
      "Covariance Type:            nonrobust                                         \n",
      "=================================================================================\n",
      "                    coef    std err          t      P>|t|      [0.025      0.975]\n",
      "---------------------------------------------------------------------------------\n",
      "Intercept         0.2125      0.199      1.068      0.287      -0.180       0.605\n",
      "lead              0.4538      0.201      2.253      0.026       0.056       0.852\n",
      "ph               -0.0355      0.025     -1.425      0.156      -0.085       0.014\n",
      "lead:ph          -0.0552      0.028     -1.996      0.048      -0.110      -0.001\n",
      "hardness         -0.0002      0.000     -1.485      0.140      -0.000    5.38e-05\n",
      "typhoid_rate      0.9342      0.331      2.824      0.005       0.281       1.587\n",
      "np_tub_rate       2.0134      0.766      2.629      0.009       0.501       3.526\n",
      "precipitation     0.0728      0.020      3.682      0.000       0.034       0.112\n",
      "temperature       0.0022      0.002      1.102      0.272      -0.002       0.006\n",
      "==============================================================================\n",
      "Omnibus:                        2.384   Durbin-Watson:                   1.833\n",
      "Prob(Omnibus):                  0.304   Jarque-Bera (JB):                2.340\n",
      "Skew:                           0.282   Prob(JB):                        0.310\n",
      "Kurtosis:                       2.910   Cond. No.                     1.34e+04\n",
      "==============================================================================\n",
      "\n",
      "Notes:\n",
      "[1] Standard Errors assume that the covariance matrix of the errors is correctly specified.\n",
      "[2] The condition number is large, 1.34e+04. This might indicate that there are\n",
      "strong multicollinearity or other numerical problems.\n",
      "\"\"\"\n",
      "model.params['lead']=0.4617984571303253\n",
      "neglected_factor_included_model.params['lead']=0.45377210849919686\n",
      "model.params['ph']=-0.07517915350073837\n",
      "neglected_factor_included_model.params['ph']=-0.035544010733275955\n",
      "model.params['lead:ph']=-0.05686221714936894\n",
      "neglected_factor_included_model.params['lead:ph']=-0.0551873974998743\n"
     ]
    }
   ],
   "source": [
    "neglected_factor_included_model = smf.ols(\"infrate ~ lead + ph + lead:ph + hardness + typhoid_rate + np_tub_rate + precipitation + temperature\", data=lead_df).fit()\n",
    "print(f\"{neglected_factor_included_model.summary()=}\")\n",
    "\n",
    "print(f\"{model.params['lead']=}\")\n",
    "print(f\"{neglected_factor_included_model.params['lead']=}\")\n",
    "print(f\"{model.params['ph']=}\")\n",
    "print(f\"{neglected_factor_included_model.params['ph']=}\")\n",
    "print(f\"{model.params['lead:ph']=}\")\n",
    "print(f\"{neglected_factor_included_model.params['lead:ph']=}\")"
   ]
  },
  {
   "cell_type": "code",
   "execution_count": 17,
   "id": "9ff5c232",
   "metadata": {},
   "outputs": [
    {
     "name": "stdout",
     "output_type": "stream",
     "text": [
      "everything_model.summary()=<class 'statsmodels.iolib.summary.Summary'>\n",
      "\"\"\"\n",
      "                            OLS Regression Results                            \n",
      "==============================================================================\n",
      "Dep. Variable:                infrate   R-squared:                       0.561\n",
      "Model:                            OLS   Adj. R-squared:                  0.528\n",
      "Method:                 Least Squares   F-statistic:                     16.96\n",
      "Date:                Mon, 11 Aug 2025   Prob (F-statistic):           6.56e-23\n",
      "Time:                        01:41:56   Log-Likelihood:                 152.11\n",
      "No. Observations:                 172   AIC:                            -278.2\n",
      "Df Residuals:                     159   BIC:                            -237.3\n",
      "Df Model:                          12                                         \n",
      "Covariance Type:            nonrobust                                         \n",
      "=================================================================================\n",
      "                    coef    std err          t      P>|t|      [0.025      0.975]\n",
      "---------------------------------------------------------------------------------\n",
      "Intercept         0.6524      0.242      2.694      0.008       0.174       1.131\n",
      "lead              0.4061      0.180      2.252      0.026       0.050       0.762\n",
      "ph               -0.0287      0.022     -1.276      0.204      -0.073       0.016\n",
      "lead:ph          -0.0516      0.025     -2.087      0.038      -0.100      -0.003\n",
      "hardness         -0.0001      0.000     -1.016      0.311      -0.000    9.67e-05\n",
      "typhoid_rate      1.0258      0.313      3.275      0.001       0.407       1.644\n",
      "np_tub_rate       1.9769      0.696      2.839      0.005       0.602       3.352\n",
      "precipitation     0.0716      0.018      3.963      0.000       0.036       0.107\n",
      "temperature       0.0030      0.002      1.546      0.124      -0.001       0.007\n",
      "population    -1.298e-06   2.64e-06     -0.492      0.623   -6.51e-06    3.91e-06\n",
      "mom_rate          0.0062      0.260      0.024      0.981      -0.506       0.519\n",
      "age              -0.0207      0.004     -5.334      0.000      -0.028      -0.013\n",
      "foreign_share     0.2467      0.096      2.557      0.011       0.056       0.437\n",
      "==============================================================================\n",
      "Omnibus:                        1.616   Durbin-Watson:                   1.839\n",
      "Prob(Omnibus):                  0.446   Jarque-Bera (JB):                1.223\n",
      "Skew:                           0.121   Prob(JB):                        0.543\n",
      "Kurtosis:                       3.335   Cond. No.                     2.91e+05\n",
      "==============================================================================\n",
      "\n",
      "Notes:\n",
      "[1] Standard Errors assume that the covariance matrix of the errors is correctly specified.\n",
      "[2] The condition number is large, 2.91e+05. This might indicate that there are\n",
      "strong multicollinearity or other numerical problems.\n",
      "\"\"\"\n",
      "model.params['lead']=0.4617984571303253\n",
      "everything_model.params['lead']=0.40612781693517186\n",
      "model.params['ph']=-0.07517915350073837\n",
      "everything_model.params['ph']=-0.028687159736487805\n",
      "model.params['lead:ph']=-0.05686221714936894\n",
      "everything_model.params['lead:ph']=-0.051617029571518876\n"
     ]
    }
   ],
   "source": [
    "everything_model = smf.ols(\"infrate ~ lead + ph + lead:ph + hardness + typhoid_rate + np_tub_rate + precipitation + temperature + population + mom_rate + age + foreign_share\", data=lead_df).fit()\n",
    "print(f\"{everything_model.summary()=}\")\n",
    "\n",
    "print(f\"{model.params['lead']=}\")\n",
    "print(f\"{everything_model.params['lead']=}\")\n",
    "print(f\"{model.params['ph']=}\")\n",
    "print(f\"{everything_model.params['ph']=}\")\n",
    "print(f\"{model.params['lead:ph']=}\")\n",
    "print(f\"{everything_model.params['lead:ph']=}\")"
   ]
  },
  {
   "cell_type": "markdown",
   "id": "8a982c27",
   "metadata": {},
   "source": [
    "We could possibly add the following factors to avoid omitted variable bias -- those specifically related to infant mortality and correlated with Lead and pH could be water hardness, typhoid rate, Non-pulmonary tuberculosis death rate, average precipitation, and average temperature in state. These seem to be more intuitively related to mortality and linked to lead pipes and pH than the others, so I began with these. We see that the coefficient for lead decreased by 0.01, which isn't a ton relative to the coefficient of 0.45, but the pH coefficient changed fairly drastically and more than halved to ~-0.036 from -0.075 in our original model. The lead-ph interaction term also increased by 0.001 which wasn't a ton relative to the coefficient of -0.055. So it seems that our concerns were somewhat founded, but maybe not as much for lead.\n",
    "\n",
    "As this did change things but didn't move the needle a ton, for completeness I decided to include all other variables as well, except city/state/year which weren't really relevant to the model itself. In this \"everything\" model, we had a more significant decrease of the lead coefficient from ~-0.461 to ~0.406, an even more significant decrease in magnitude of the pH coefficient from ~-0.075 to ~-0.028, and the lead-ph interaction coefficient changed from ~-0.0569 to ~-0.0516. So there were more changes in the coefficients here, and it seems to indicate that adding these other factors made a difference and seems to imply that there was previously some level of omitted variabl biasis due to correlated terms."
   ]
  }
 ],
 "metadata": {
  "kernelspec": {
   "display_name": "jhu_eng (3.13.5)",
   "language": "python",
   "name": "python3"
  },
  "language_info": {
   "codemirror_mode": {
    "name": "ipython",
    "version": 3
   },
   "file_extension": ".py",
   "mimetype": "text/x-python",
   "name": "python",
   "nbconvert_exporter": "python",
   "pygments_lexer": "ipython3",
   "version": "3.13.5"
  }
 },
 "nbformat": 4,
 "nbformat_minor": 5
}
