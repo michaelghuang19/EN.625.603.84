{
 "cells": [
  {
   "cell_type": "markdown",
   "id": "7b2a6f33",
   "metadata": {},
   "source": [
    "## Lead Mortality Analysis"
   ]
  },
  {
   "cell_type": "markdown",
   "id": "e2e6e478",
   "metadata": {
    "vscode": {
     "languageId": "plaintext"
    }
   },
   "source": [
    "#### A. Compute the average infant mortality rate (Inf) for cities with lead pipes and for cities with non-lead pipes. Is there a statistically significant difference in the averages?\n"
   ]
  },
  {
   "cell_type": "code",
   "execution_count": null,
   "id": "59fbff79",
   "metadata": {},
   "outputs": [],
   "source": []
  },
  {
   "cell_type": "markdown",
   "id": "dfc962b1",
   "metadata": {},
   "source": [
    "#### B. The amount of lead leached from lead pipes depends on the chemistry of the water running through the pipes. The more acidic the water (that is, the lower the pH), the more lead is leached. Run a regression of Inf on Lead, pH, and the interaction term Lead ×pH.\n"
   ]
  },
  {
   "cell_type": "code",
   "execution_count": null,
   "id": "705a8422",
   "metadata": {},
   "outputs": [],
   "source": []
  },
  {
   "cell_type": "markdown",
   "id": "d9488126",
   "metadata": {},
   "source": [
    "##### I. The regression includes four coefficients (the intercept and the three coefficients multiplying the regressors). Explain what each coefficient measures."
   ]
  },
  {
   "cell_type": "code",
   "execution_count": null,
   "id": "9a82aca2",
   "metadata": {},
   "outputs": [],
   "source": []
  },
  {
   "cell_type": "markdown",
   "id": "38efb9ea",
   "metadata": {},
   "source": [
    "##### II. Plot the estimated regression function relating Inf to pH for Lead = 0 and Lead = 1. Describe the differences in the regression functions and relate these differences to the coefficients discussed in (I)."
   ]
  },
  {
   "cell_type": "code",
   "execution_count": null,
   "id": "975f8e55",
   "metadata": {},
   "outputs": [],
   "source": []
  },
  {
   "cell_type": "markdown",
   "id": "1940f021",
   "metadata": {},
   "source": [
    "##### III. Does Lead have a statistically significant effect on infant mortality? Explain."
   ]
  },
  {
   "cell_type": "code",
   "execution_count": null,
   "id": "02544e54",
   "metadata": {},
   "outputs": [],
   "source": []
  },
  {
   "cell_type": "markdown",
   "id": "b3a99bfc",
   "metadata": {},
   "source": [
    "##### IV. Does the effect of Lead on infant mortality depend on pH? Is this dependence statistically significant?"
   ]
  },
  {
   "cell_type": "code",
   "execution_count": null,
   "id": "1ac12498",
   "metadata": {},
   "outputs": [],
   "source": []
  },
  {
   "cell_type": "markdown",
   "id": "3659fde5",
   "metadata": {},
   "source": [
    "##### V. What is the average value of pH in the sample? At this pH level, what is the estimated effect of Lead on infant mortality? What is the standard deviation of pH? Suppose that the pH level is on standard deviation lower than the average level of pH in the sample; what is the estimated effect of Lead on infant mortality? What if pH is one standard deviation higher than the average value?"
   ]
  },
  {
   "cell_type": "code",
   "execution_count": null,
   "id": "b9490ad5",
   "metadata": {},
   "outputs": [],
   "source": []
  },
  {
   "cell_type": "markdown",
   "id": "fe7f6656",
   "metadata": {},
   "source": [
    "##### VI. Construct a 95% confidence interval for the effect of Lead on infant mortality when pH = 6.5.\n"
   ]
  },
  {
   "cell_type": "code",
   "execution_count": null,
   "id": "3aa63d91",
   "metadata": {},
   "outputs": [],
   "source": []
  },
  {
   "cell_type": "markdown",
   "id": "36ba97cc",
   "metadata": {},
   "source": [
    "#### C. The analysis in (b) may suffer from omitted variable bias because it neglects factors that affect infant mortality and that might potentially be correlated with Lead and pH. Investigate this concern, using the other variables in the data set.\n",
    "\n"
   ]
  },
  {
   "cell_type": "code",
   "execution_count": null,
   "id": "7ed14027",
   "metadata": {},
   "outputs": [],
   "source": []
  }
 ],
 "metadata": {
  "kernelspec": {
   "display_name": "base",
   "language": "python",
   "name": "python3"
  },
  "language_info": {
   "codemirror_mode": {
    "name": "ipython",
    "version": 3
   },
   "file_extension": ".py",
   "mimetype": "text/x-python",
   "name": "python",
   "nbconvert_exporter": "python",
   "pygments_lexer": "ipython3",
   "version": "3.10.12"
  }
 },
 "nbformat": 4,
 "nbformat_minor": 5
}
