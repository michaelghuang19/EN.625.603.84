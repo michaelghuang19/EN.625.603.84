{
 "cells": [
  {
   "cell_type": "markdown",
   "id": "3ab7c02e",
   "metadata": {},
   "source": [
    "## Birthweight Smoking Analysis\n"
   ]
  },
  {
   "cell_type": "markdown",
   "id": "b30a470d",
   "metadata": {},
   "source": [
    "#### 1. Get to know your data. Make histograms and summary statistics of your data to get a sense of distributions.\n"
   ]
  },
  {
   "cell_type": "code",
   "execution_count": null,
   "id": "d2e9a4d0",
   "metadata": {},
   "outputs": [],
   "source": []
  },
  {
   "cell_type": "markdown",
   "id": "384f293d",
   "metadata": {},
   "source": [
    "##### A. What is the average value of birthweight for mothers who smoke? For mothers who don’t smoke?\n"
   ]
  },
  {
   "cell_type": "code",
   "execution_count": null,
   "id": "2fc13628",
   "metadata": {},
   "outputs": [],
   "source": []
  },
  {
   "cell_type": "markdown",
   "id": "223e9e34",
   "metadata": {},
   "source": [
    "#### 2. Consider associations. Plot each predictor (variables 2 through 11 in the pdf data description) against the response (birthweight). You could also do a quick line fit or get its correlation. Correlation is with “cor()”. A line fit can be achieved using the linear model function. Two commands, model<-lm(response~predictor), followed by summary(model) will give you least squares result for an individual predictor (e.g., smoker) against the response. This will give you a rough idea of what might be important. Try for regressions 2 through 11.\n"
   ]
  },
  {
   "cell_type": "markdown",
   "id": "52f5f83f",
   "metadata": {},
   "source": []
  },
  {
   "cell_type": "code",
   "execution_count": null,
   "id": "b853d9c5",
   "metadata": {},
   "outputs": [],
   "source": []
  },
  {
   "cell_type": "markdown",
   "id": "8050b37f",
   "metadata": {
    "vscode": {
     "languageId": "markdown"
    }
   },
   "source": [
    "##### A. What does a regression of birthweight on the binary variable smoker suggest about the relationship between maternal smoking and infant birthweight?"
   ]
  },
  {
   "cell_type": "code",
   "execution_count": null,
   "id": "f711f5fe",
   "metadata": {},
   "outputs": [],
   "source": []
  },
  {
   "cell_type": "markdown",
   "id": "f2a8fea3",
   "metadata": {},
   "source": [
    "##### B. Do you think the regression above accurately captures the impact of smoking on birthweight? (Consider the assumptions of the linear regression model and whether they are met. Hint: do you think smoking is uncorrelated with other factors that cause low birthweight?)"
   ]
  },
  {
   "cell_type": "code",
   "execution_count": null,
   "id": "ccd8f18d",
   "metadata": {},
   "outputs": [],
   "source": []
  },
  {
   "cell_type": "markdown",
   "id": "b7b14517",
   "metadata": {},
   "source": [
    "##### C. Regress birthweight on smoker, alcohol, and nprevist. Explain why the exclusion of these variables could lead to a biased regression coefficient in (a) above. Is the estimated effect of smoking on birthweight substantially different from the regression in (a) above?"
   ]
  },
  {
   "cell_type": "code",
   "execution_count": null,
   "id": "5d2af12f",
   "metadata": {},
   "outputs": [],
   "source": []
  },
  {
   "cell_type": "markdown",
   "id": "96fbee2f",
   "metadata": {},
   "source": [
    "##### D. Jane smoked during her pregnancy, did not drink alcohol, and had 8 prenatal care visits. Use the regression in (c) to predict the birthweight of Jane’s infant."
   ]
  },
  {
   "cell_type": "code",
   "execution_count": null,
   "id": "399936df",
   "metadata": {},
   "outputs": [],
   "source": []
  },
  {
   "cell_type": "markdown",
   "id": "a6e9cf17",
   "metadata": {},
   "source": [
    "#### 3. An alternative way to control for prenatal visits is to use binary variables tripre0 through tripre3. Regress birthweight on smoker, alcohol, tripre0, tripre2, and tripre3."
   ]
  },
  {
   "cell_type": "code",
   "execution_count": null,
   "id": "3d1063d1",
   "metadata": {},
   "outputs": [],
   "source": []
  },
  {
   "cell_type": "markdown",
   "id": "718cb729",
   "metadata": {},
   "source": [
    "##### A. Why is tripre1 excluded from the model? What happens if you include it in the regression?"
   ]
  },
  {
   "cell_type": "code",
   "execution_count": null,
   "id": "575e2136",
   "metadata": {},
   "outputs": [],
   "source": []
  },
  {
   "cell_type": "markdown",
   "id": "ea3bb0ee",
   "metadata": {},
   "source": [
    "##### B. The estimated coefficient on tripre0 is large and negative. What does this coefficient measure? Interpret its value.\n"
   ]
  },
  {
   "cell_type": "code",
   "execution_count": null,
   "id": "f4bb83a9",
   "metadata": {},
   "outputs": [],
   "source": []
  },
  {
   "cell_type": "markdown",
   "id": "99f0505a",
   "metadata": {},
   "source": [
    "##### C. Interpret the value of the estimated coefficients on tripre2 and tripre3.\n"
   ]
  },
  {
   "cell_type": "code",
   "execution_count": null,
   "id": "c3d1e213",
   "metadata": {},
   "outputs": [],
   "source": []
  },
  {
   "cell_type": "markdown",
   "id": "43b3ac35",
   "metadata": {},
   "source": [
    "##### D. Does the regression in (3) explain a larger fraction of the variance in birthweight than the regression in (2c)? (Hint: consider R2 .)\n"
   ]
  },
  {
   "cell_type": "code",
   "execution_count": null,
   "id": "1abe044d",
   "metadata": {},
   "outputs": [],
   "source": []
  },
  {
   "cell_type": "markdown",
   "id": "4b983fdb",
   "metadata": {},
   "source": [
    "#### 4. Consider adding an additional regressor: Regress birthweight on smoker, alcohol, nprevist, and unmarried.\n"
   ]
  },
  {
   "cell_type": "code",
   "execution_count": null,
   "id": "f3a2fd02",
   "metadata": {},
   "outputs": [],
   "source": []
  },
  {
   "cell_type": "markdown",
   "id": "47933088",
   "metadata": {},
   "source": [
    "##### A. Compare the coefficient on smoker in this regression to the coefficients on smoker in regressions (2a) and (2c). What is the estimated effect of smoking on birthweight in each regression?\n"
   ]
  },
  {
   "cell_type": "code",
   "execution_count": null,
   "id": "a682a864",
   "metadata": {},
   "outputs": [],
   "source": []
  },
  {
   "cell_type": "markdown",
   "id": "77e86f1b",
   "metadata": {},
   "source": [
    "##### B. Interpret differences in estimated effects.\n"
   ]
  },
  {
   "cell_type": "code",
   "execution_count": null,
   "id": "4b65de6c",
   "metadata": {},
   "outputs": [],
   "source": []
  },
  {
   "cell_type": "markdown",
   "id": "e04cb605",
   "metadata": {},
   "source": [
    "##### C. Interpret the estimated effect of marital status on birthweight. Is the coefficient on unmarried statistically significant? Is the magnitude of the coefficient large?\n"
   ]
  },
  {
   "cell_type": "code",
   "execution_count": null,
   "id": "c46e892c",
   "metadata": {},
   "outputs": [],
   "source": []
  },
  {
   "cell_type": "markdown",
   "id": "de61d56f",
   "metadata": {},
   "source": [
    "##### D. A family advocacy group notes that the large coefficient suggests that public policies that encourage marriage will lead, on average, to healthier babies. Do you agree? (Hint: consider some of the various factors that unmarried may be controlling for and how this affects the interpretation of this coefficient).\n"
   ]
  },
  {
   "cell_type": "code",
   "execution_count": null,
   "id": "6386837b",
   "metadata": {},
   "outputs": [],
   "source": []
  },
  {
   "cell_type": "markdown",
   "id": "2aca7bb6",
   "metadata": {},
   "source": [
    "#### 5. Consider the other coefficients in this data set. Which do you think should be included in the regression?\n"
   ]
  },
  {
   "cell_type": "code",
   "execution_count": null,
   "id": "b392df3e",
   "metadata": {},
   "outputs": [],
   "source": []
  },
  {
   "cell_type": "markdown",
   "id": "94455a12",
   "metadata": {},
   "source": [
    "##### A. Try adding in some of these additional variables. Share your findings and conclusions."
   ]
  },
  {
   "cell_type": "code",
   "execution_count": null,
   "id": "85324e49",
   "metadata": {},
   "outputs": [],
   "source": []
  },
  {
   "cell_type": "markdown",
   "id": "0dc95a72",
   "metadata": {},
   "source": [
    "##### B. The data set includes babies born in Pennsylvania in 1989. Discuss the external validity of your analysis for: (i) California in 1989, (ii) Illinois in 2015, (iii) South Korea in 2014.\n"
   ]
  },
  {
   "cell_type": "code",
   "execution_count": null,
   "id": "fd484901",
   "metadata": {},
   "outputs": [],
   "source": []
  },
  {
   "cell_type": "markdown",
   "id": "872a5e9e",
   "metadata": {},
   "source": [
    "##### C. Overall, explain your conclusions on how maternal smoking impacts birthweight (hint: the regressions you’re running should be helping you see that isolating the causal effect of smoking on birthweight is difficult because there are a lot of other confounding variables)\n"
   ]
  },
  {
   "cell_type": "code",
   "execution_count": null,
   "id": "bd6c2f5c",
   "metadata": {},
   "outputs": [],
   "source": []
  }
 ],
 "metadata": {
  "kernelspec": {
   "display_name": "base",
   "language": "python",
   "name": "python3"
  },
  "language_info": {
   "codemirror_mode": {
    "name": "ipython",
    "version": 3
   },
   "file_extension": ".py",
   "mimetype": "text/x-python",
   "name": "python",
   "nbconvert_exporter": "python",
   "pygments_lexer": "ipython3",
   "version": "3.10.12"
  }
 },
 "nbformat": 4,
 "nbformat_minor": 5
}
